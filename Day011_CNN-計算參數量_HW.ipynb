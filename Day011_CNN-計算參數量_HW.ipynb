{
 "cells": [
  {
   "cell_type": "markdown",
   "metadata": {
    "colab_type": "text",
    "id": "f6jN0Y8x4gNA"
   },
   "source": [
    "## 『本次練習內容』\n",
    "#### 運用Keras搭建簡單的Dense Layer與 Convolution2D Layer，使用相同Neurons數量，計算總參數量相差多少。\n"
   ]
  },
  {
   "cell_type": "markdown",
   "metadata": {},
   "source": [
    "## 『本次練習目的』\n",
    "  #### 本次練習主要是要讓各位同學們了解CNN與FC層的參數使用量差異\n",
    "  #### Convolution2D有許多參數可以設置，之後章節會細談\n",
    "  #### 不熟Keras的學員們也可以藉此了解NN層的不同搭法"
   ]
  },
  {
   "cell_type": "code",
   "execution_count": 8,
   "metadata": {
    "colab": {},
    "colab_type": "code",
    "id": "SAFr7hM24gNB"
   },
   "outputs": [],
   "source": [
    "from keras.models import Sequential\n",
    "from keras.layers import Convolution2D\n",
    "from keras.layers import Input, Dense\n",
    "from keras.models import Model"
   ]
  },
  {
   "cell_type": "code",
   "execution_count": 9,
   "metadata": {},
   "outputs": [
    {
     "name": "stdout",
     "output_type": "stream",
     "text": [
      "-------------- 建造一個一層的CNN層 -----------\n",
      "_________________________________________________________________\n",
      "Layer (type)                 Output Shape              Param #   \n",
      "=================================================================\n",
      "conv2d_3 (Conv2D)            (None, 26, 26, 32)        320       \n",
      "=================================================================\n",
      "Total params: 320\n",
      "Trainable params: 320\n",
      "Non-trainable params: 0\n",
      "_________________________________________________________________\n",
      "None\n",
      "-------------- 建造一個一層的FC層 -----------\n",
      "_________________________________________________________________\n",
      "Layer (type)                 Output Shape              Param #   \n",
      "=================================================================\n",
      "input_3 (InputLayer)         (None, 784)               0         \n",
      "_________________________________________________________________\n",
      "dense_3 (Dense)              (None, 288)               226080    \n",
      "=================================================================\n",
      "Total params: 226,080\n",
      "Trainable params: 226,080\n",
      "Non-trainable params: 0\n",
      "_________________________________________________________________\n",
      "None\n"
     ]
    }
   ],
   "source": [
    "##輸入照片尺寸==28*28*1\n",
    "##都用一層，288個神經元\n",
    "\n",
    "\n",
    "print('-------------- 建造一個一層的CNN層 -----------')\n",
    "\n",
    "##建造一個一層的CNN層\n",
    "# create model\n",
    "classifier=Sequential()\n",
    "\n",
    "# Sequential 是一個多層模型，可以透過 add() 函式將一層一層 layer 加上去\n",
    "##Kernel size 3*3，用32張，輸入大小28*28*1\n",
    "#'''32張Kernel，大小為3*3，輸入尺寸為28*28*1'''\n",
    "\n",
    "# CNN層\n",
    "classifier.add(Convolution2D(filters=32, kernel_size=(3, 3), input_shape=(28, 28, 1)))\n",
    "\n",
    "##看看model結構\n",
    "print(classifier.summary())\n",
    "#'''理解輸出Total params為何==320'''\n",
    "# (Kernel_H * W * channels + 1) * Kernel numbers = (3 * 3 * 1 + 1) * 32 = 320\n",
    "\n",
    "print('-------------- 建造一個一層的FC層 -----------')\n",
    "\n",
    "##建造一個一層的FC層\n",
    "classifier=Sequential()\n",
    "\n",
    "##輸入為28*28*1攤平==784\n",
    "#'''輸入尺寸為28*28*1'''\n",
    "inputs = Input(shape=(784, ))\n",
    "\n",
    "##CNN中用了(3*3*1)*32個神經元，我們這邊也用相同神經元數量\n",
    "#'''使用288個神經元'''\n",
    "x=Dense(units=288)(inputs)\n",
    "model = Model(inputs=inputs, outputs=x)\n",
    "##看看model結構\n",
    "print(model.summary())\n",
    "#'''理解輸出Total params為何==226080'''\n",
    "# input x output + output (bias) = 784 x 288 + 288 = 226080\n",
    "\n",
    "##大家可以自己變換設定看看參數變化"
   ]
  },
  {
   "cell_type": "code",
   "execution_count": 13,
   "metadata": {},
   "outputs": [
    {
     "name": "stdout",
     "output_type": "stream",
     "text": [
      "-------------- 建造一個一層的CNN層 -----------\n",
      "_________________________________________________________________\n",
      "Layer (type)                 Output Shape              Param #   \n",
      "=================================================================\n",
      "conv2d_5 (Conv2D)            (None, 124, 124, 64)      1664      \n",
      "=================================================================\n",
      "Total params: 1,664\n",
      "Trainable params: 1,664\n",
      "Non-trainable params: 0\n",
      "_________________________________________________________________\n",
      "None\n",
      "-------------- 建造一個一層的FC層 -----------\n",
      "_________________________________________________________________\n",
      "Layer (type)                 Output Shape              Param #   \n",
      "=================================================================\n",
      "input_5 (InputLayer)         (None, 1684)              0         \n",
      "_________________________________________________________________\n",
      "dense_5 (Dense)              (None, 1600)              2696000   \n",
      "=================================================================\n",
      "Total params: 2,696,000\n",
      "Trainable params: 2,696,000\n",
      "Non-trainable params: 0\n",
      "_________________________________________________________________\n",
      "None\n"
     ]
    }
   ],
   "source": [
    "##輸入照片尺寸==128*128*1\n",
    "##都用一層，1600個神經元\n",
    "\n",
    "\n",
    "print('-------------- 建造一個一層的CNN層 -----------')\n",
    "\n",
    "##建造一個一層的CNN層\n",
    "# create model\n",
    "classifier=Sequential()\n",
    "\n",
    "# Sequential 是一個多層模型，可以透過 add() 函式將一層一層 layer 加上去\n",
    "##Kernel size 3*3，用32張，輸入大小28*28*1\n",
    "#'''32張Kernel，大小為3*3，輸入尺寸為28*28*1'''\n",
    "\n",
    "# CNN層\n",
    "classifier.add(Convolution2D(filters=64, kernel_size=(5, 5), input_shape=(128, 128, 1)))\n",
    "\n",
    "##看看model結構\n",
    "print(classifier.summary())\n",
    "#'''理解輸出Total params為何==320'''\n",
    "# (Kernel_H * W * channels + 1) * Kernel numbers = (5 * 5 * 1 + 1) * 64 = 1664\n",
    "\n",
    "print('-------------- 建造一個一層的FC層 -----------')\n",
    "\n",
    "##建造一個一層的FC層\n",
    "classifier=Sequential()\n",
    "\n",
    "##輸入為128*128*1攤平==1684\n",
    "#'''輸入尺寸為28*28*1'''\n",
    "inputs = Input(shape=(1684, ))\n",
    "\n",
    "##CNN中用了(5*5*1)*64個神經元，我們這邊也用相同神經元數量\n",
    "#'''使用1600個神經元'''\n",
    "x=Dense(units=1600)(inputs)\n",
    "model = Model(inputs=inputs, outputs=x)\n",
    "##看看model結構\n",
    "print(model.summary())\n",
    "#'''理解輸出Total params為何==226080'''\n",
    "# input x output + output (bias) = 1684 x 1600 + 1600 = 2696000\n",
    "\n",
    "##大家可以自己變換設定看看參數變化"
   ]
  },
  {
   "cell_type": "code",
   "execution_count": null,
   "metadata": {},
   "outputs": [],
   "source": []
  }
 ],
 "metadata": {
  "colab": {
   "name": "CNN-計算參數量.ipynb",
   "provenance": [],
   "version": "0.3.2"
  },
  "kernelspec": {
   "display_name": "Python 3",
   "language": "python",
   "name": "python3"
  },
  "language_info": {
   "codemirror_mode": {
    "name": "ipython",
    "version": 3
   },
   "file_extension": ".py",
   "mimetype": "text/x-python",
   "name": "python",
   "nbconvert_exporter": "python",
   "pygments_lexer": "ipython3",
   "version": "3.5.5"
  }
 },
 "nbformat": 4,
 "nbformat_minor": 1
}
