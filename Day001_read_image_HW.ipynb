{
 "cells": [
  {
   "cell_type": "markdown",
   "metadata": {},
   "source": [
    "作業\n",
    "思考一下我們前面有提到圖片是矩陣，但維度可能會不一樣 例如灰階圖只有兩個維度，RGB 彩圖則有 3 個維度\n",
    "\n",
    "假如今天我們把 RGB 3 個維度拆開來看會有甚麼不同的效果呢？"
   ]
  },
  {
   "cell_type": "code",
   "execution_count": 21,
   "metadata": {
    "collapsed": false
   },
   "outputs": [],
   "source": [
    "import cv2  \n",
    "import numpy as np  \n",
    "\n",
    "image_path='data/lena.png'\n",
    "\n",
    "# 以彩色圖片的方式載入\n",
    "img = cv2.imread(img_path, cv2.IMREAD_COLOR)\n",
    "\n",
    "# 把 BGR 3 個維度拆開來 , 建立3個跟圖像一樣大小的矩陣，數值全部為 0\n",
    "b = np.zeros((img.shape[0],img.shape[1]),dtype=img.dtype)\n",
    "g = np.zeros((img.shape[0],img.shape[1]),dtype=img.dtype)\n",
    "r = np.zeros((img.shape[0],img.shape[1]),dtype=img.dtype)"
   ]
  },
  {
   "cell_type": "code",
   "execution_count": 22,
   "metadata": {
    "collapsed": false
   },
   "outputs": [
    {
     "data": {
      "text/plain": [
       "array([[126, 127, 128, ..., 119,  99,  70],\n",
       "       [127, 127, 127, ..., 123, 106,  77],\n",
       "       [125, 125, 125, ..., 126, 113,  84],\n",
       "       ...,\n",
       "       [ 56,  53,  64, ...,  81,  77,  75],\n",
       "       [ 55,  53,  68, ...,  83,  81,  79],\n",
       "       [ 56,  54,  68, ...,  79,  83,  82]], dtype=uint8)"
      ]
     },
     "execution_count": 22,
     "metadata": {},
     "output_type": "execute_result"
    }
   ],
   "source": [
    "img[:,:,0]"
   ]
  },
  {
   "cell_type": "code",
   "execution_count": 23,
   "metadata": {
    "collapsed": false
   },
   "outputs": [
    {
     "data": {
      "text/plain": [
       "array([[126, 127, 128, ..., 119,  99,  70],\n",
       "       [127, 127, 127, ..., 123, 106,  77],\n",
       "       [125, 125, 125, ..., 126, 113,  84],\n",
       "       ...,\n",
       "       [ 56,  53,  64, ...,  81,  77,  75],\n",
       "       [ 55,  53,  68, ...,  83,  81,  79],\n",
       "       [ 56,  54,  68, ...,  79,  83,  82]], dtype=uint8)"
      ]
     },
     "execution_count": 23,
     "metadata": {},
     "output_type": "execute_result"
    }
   ],
   "source": [
    "#複製圖像通道的數據\n",
    "b[:,:] = img[:,:,0]  # 複製 b 通道的數據\n",
    "g[:,:] = img[:,:,1]  # 複製 g 通道的數據\n",
    "r[:,:] = img[:,:,2]  # 複製 r 通道的數據\n",
    " \n",
    "b[:,:]"
   ]
  },
  {
   "cell_type": "code",
   "execution_count": 24,
   "metadata": {
    "collapsed": true
   },
   "outputs": [],
   "source": [
    "while True:\n",
    "# 顯示彩圖\n",
    "    cv2.imshow(\"Blue\",b)\n",
    "    cv2.imshow(\"Green\",g)\n",
    "    cv2.imshow(\"Red\",r)\n",
    "\n",
    "    # 直到按下 ESC 鍵才會自動關閉視窗結束程式\n",
    "    k = cv2.waitKey(0)\n",
    "    if k == 27:\n",
    "        cv2.destroyAllWindows()\n",
    "        break"
   ]
  },
  {
   "cell_type": "code",
   "execution_count": null,
   "metadata": {
    "collapsed": true
   },
   "outputs": [],
   "source": []
  }
 ],
 "metadata": {
  "kernelspec": {
   "display_name": "Python 3",
   "language": "python",
   "name": "python3"
  },
  "language_info": {
   "codemirror_mode": {
    "name": "ipython",
    "version": 3
   },
   "file_extension": ".py",
   "mimetype": "text/x-python",
   "name": "python",
   "nbconvert_exporter": "python",
   "pygments_lexer": "ipython3",
   "version": "3.6.9"
  }
 },
 "nbformat": 4,
 "nbformat_minor": 2
}
